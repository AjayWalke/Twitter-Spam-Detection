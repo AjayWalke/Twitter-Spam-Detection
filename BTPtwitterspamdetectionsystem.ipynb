{
 "cells": [
  {
   "cell_type": "code",
   "execution_count": 1,
   "id": "9720a831",
   "metadata": {},
   "outputs": [],
   "source": [
    "import pandas as pd\n",
    "from sklearn.model_selection import GridSearchCV, StratifiedKFold, train_test_split\n",
    "import numpy as np\n",
    "from sklearn.svm import SVC\n",
    "from sklearn.datasets import make_classification\n",
    "from sklearn.feature_selection import SelectKBest\n",
    "from sklearn.feature_selection import f_classif\n",
    "from sklearn.model_selection import cross_val_score\n",
    "from sklearn.preprocessing import StandardScaler\n",
    "from sklearn.metrics import accuracy_score, f1_score, classification_report\n",
    "import warnings\n",
    "warnings.filterwarnings('ignore')"
   ]
  },
  {
   "cell_type": "code",
   "execution_count": 2,
   "id": "52a93df1",
   "metadata": {},
   "outputs": [],
   "source": [
    "# read data and merge the train and test with features\n",
    "\n",
    "coded_id = pd.read_csv(r\"D:\\BTP Minor project II - social network spam detection system\\Social-Spam-Detection-main\\data\\Social_spammers_dataset\\users\\coded_ids.csv\")\n",
    "features = pd.read_csv(r\"D:\\BTP Minor project II - social network spam detection system\\Social-Spam-Detection-main\\data\\Social_spammers_dataset\\users_features\\features.csv\")\n",
    "users = pd.merge(features, coded_id, on='user_id', how='left')\n",
    "\n",
    "train = pd.read_csv(r\"D:\\BTP Minor project II - social network spam detection system\\Social-Spam-Detection-main\\data\\Social_spammers_dataset\\users\\coded_ids_labels_train.csv\")\n",
    "test = pd.read_csv(r\"D:\\BTP Minor project II - social network spam detection system\\Social-Spam-Detection-main\\data\\Social_spammers_dataset\\users\\coded_ids_labels_test.csv\")\n",
    "train = pd.merge(users, train, on='coded_id', how='right')\n",
    "test = pd.merge(users, test, on='coded_id', how='right')"
   ]
  },
  {
   "cell_type": "code",
   "execution_count": 3,
   "id": "56f4b0d7",
   "metadata": {},
   "outputs": [
    {
     "data": {
      "text/plain": [
       "(686, 147)"
      ]
     },
     "execution_count": 3,
     "metadata": {},
     "output_type": "execute_result"
    }
   ],
   "source": [
    "train.shape"
   ]
  },
  {
   "cell_type": "code",
   "execution_count": 4,
   "id": "bdc57d92",
   "metadata": {},
   "outputs": [
    {
     "data": {
      "text/plain": [
       "(81, 147)"
      ]
     },
     "execution_count": 4,
     "metadata": {},
     "output_type": "execute_result"
    }
   ],
   "source": [
    "test.shape"
   ]
  },
  {
   "cell_type": "code",
   "execution_count": 5,
   "id": "d9855b34",
   "metadata": {},
   "outputs": [],
   "source": [
    "#cleaning train dataset\n",
    "\n",
    "#remove columns with na values\n",
    "nacolumns = train.columns[train.isna().any()].tolist()\n",
    "train.drop(columns = nacolumns,inplace=True)\n",
    "train.dropna(axis=0,inplace=True)\n",
    "\n",
    "#remove unwanted category columns like time and IDs\n",
    "unwanted = [\"default_profile\",\"default_profile_image\",\"avg_intertweet_times\",\"date_newest_tweet\",\"lang\",\"min_intertweet_times\",\"std_nb_symbols_per_tweet\",\"std_nb_symbols_per_word_in_the_tweet\",\"date_oldest_tweet\",\"max_intertweet_times\",\"max_nb_symbols_per_tweet\",\"max_nb_symbols_per_word_in_the_tweet\",\"std_intertweet_times\",\"user_id\",\"coded_id\"]\n",
    "train.drop(columns=unwanted,inplace=True)\n",
    "\n",
    "#remove columns like \n",
    "allzero_cols = list(train.loc[:,(train==0).all()].columns)\n",
    "train.drop(columns=allzero_cols,inplace=True)"
   ]
  },
  {
   "cell_type": "code",
   "execution_count": 6,
   "id": "178cbecb",
   "metadata": {},
   "outputs": [],
   "source": [
    "#cleaning test dataset\n",
    "\n",
    "#remove columns with na values\n",
    "nacolumns = test.columns[test.isna().any()].tolist()\n",
    "test.drop(columns = nacolumns,inplace=True)\n",
    "test.dropna(axis=0,inplace=True)\n",
    "\n",
    "#remove unwanted category columns like time and IDs\n",
    "unwanted = [\"default_profile\",\"default_profile_image\",\"avg_intertweet_times\",\"date_newest_tweet\",\"lang\",\"min_intertweet_times\",\"std_nb_symbols_per_tweet\",\"std_nb_symbols_per_word_in_the_tweet\",\"date_oldest_tweet\",\"max_intertweet_times\",\"max_nb_symbols_per_tweet\",\"max_nb_symbols_per_word_in_the_tweet\",\"std_intertweet_times\",\"user_id\",\"coded_id\"]\n",
    "test.drop(columns=unwanted,inplace=True)\n",
    "\n",
    "#remove columns like \n",
    "allzero_cols = list(test.loc[:,(test==0).all()].columns)\n",
    "test.drop(columns=allzero_cols,inplace=True)"
   ]
  },
  {
   "cell_type": "code",
   "execution_count": 7,
   "id": "1c79e5bd",
   "metadata": {},
   "outputs": [],
   "source": [
    "#split data into x features and labels\n",
    "x = train.iloc[:,:124]\n",
    "\n",
    "#normalizing the numerical features\n",
    "scale = StandardScaler()\n",
    "x = scale.fit_transform(x)\n",
    "test = scale.fit_transform(test)\n",
    "\n",
    "y = train.label"
   ]
  },
  {
   "cell_type": "code",
   "execution_count": 8,
   "id": "e6c3535b",
   "metadata": {},
   "outputs": [
    {
     "data": {
      "text/plain": [
       "(686, 124)"
      ]
     },
     "execution_count": 8,
     "metadata": {},
     "output_type": "execute_result"
    }
   ],
   "source": [
    "x.shape"
   ]
  },
  {
   "cell_type": "code",
   "execution_count": 9,
   "id": "f5cf46ee",
   "metadata": {},
   "outputs": [
    {
     "data": {
      "text/plain": [
       "0    568\n",
       "1    118\n",
       "Name: label, dtype: int64"
      ]
     },
     "execution_count": 9,
     "metadata": {},
     "output_type": "execute_result"
    }
   ],
   "source": [
    "y.value_counts()"
   ]
  },
  {
   "cell_type": "code",
   "execution_count": 10,
   "id": "43eedda2",
   "metadata": {},
   "outputs": [],
   "source": [
    "#train test (validation) split\n",
    "x_train, x_test, y_train, y_test = train_test_split(x,y ,stratify=y, test_size=0.15,random_state=1)\n"
   ]
  },
  {
   "cell_type": "code",
   "execution_count": 11,
   "id": "c54cd963",
   "metadata": {},
   "outputs": [],
   "source": [
    "#function for performing grid search\n",
    "\n",
    "def grid_search(model,params):\n",
    "  skf = StratifiedKFold(n_splits=10)\n",
    "  gs = GridSearchCV(model, cv=skf, param_grid=params, return_train_score=True)\n",
    "  gs.fit(x_train, y_train)\n",
    "  print(\"best params = \",gs.best_params_)\n",
    "  print(\"best score =\",gs.best_score_)"
   ]
  },
  {
   "cell_type": "code",
   "execution_count": 12,
   "id": "1ea4d1ee",
   "metadata": {},
   "outputs": [
    {
     "name": "stdout",
     "output_type": "stream",
     "text": [
      "best params =  {'var_smoothing': 0.1}\n",
      "best score = 0.9176504967855055\n"
     ]
    }
   ],
   "source": [
    "#naives bayes\n",
    "from sklearn.naive_bayes import GaussianNB\n",
    "\n",
    "model = GaussianNB()\n",
    "params = {\"var_smoothing\":[1,0.1,1e-2]}\n",
    "\n",
    "grid_search(model,params)"
   ]
  },
  {
   "cell_type": "code",
   "execution_count": 13,
   "id": "bd8ba9a8",
   "metadata": {},
   "outputs": [
    {
     "name": "stdout",
     "output_type": "stream",
     "text": [
      "Model train accuracy score: 0.9228\n",
      "              precision    recall  f1-score   support\n",
      "\n",
      "           0       0.99      0.88      0.93        85\n",
      "           1       0.63      0.94      0.76        18\n",
      "\n",
      "    accuracy                           0.89       103\n",
      "   macro avg       0.81      0.91      0.84       103\n",
      "weighted avg       0.92      0.89      0.90       103\n",
      "\n"
     ]
    }
   ],
   "source": [
    "#naives bayes test\n",
    "model = GaussianNB(var_smoothing=0.1)\n",
    "model.fit(x_train, y_train)\n",
    "y_pred_train = model.predict(x_train)\n",
    "y_pred_test = model.predict(x_test)\n",
    "print('Model train accuracy score: {0:0.4f}'. format(accuracy_score(y_train, y_pred_train)))\n",
    "print(classification_report(y_test, y_pred_test))"
   ]
  },
  {
   "cell_type": "code",
   "execution_count": 14,
   "id": "92cbd2a7",
   "metadata": {},
   "outputs": [
    {
     "name": "stdout",
     "output_type": "stream",
     "text": [
      "best params =  {'n_neighbors': 3}\n",
      "best score = 0.950292226767972\n"
     ]
    }
   ],
   "source": [
    "#knn\n",
    "\n",
    "from sklearn.neighbors import KNeighborsClassifier\n",
    "model = KNeighborsClassifier()\n",
    "params = {\"n_neighbors\":[i for i in range(1,20)]}\n",
    "\n",
    "grid_search(model,params)"
   ]
  },
  {
   "cell_type": "code",
   "execution_count": 15,
   "id": "985ed431",
   "metadata": {},
   "outputs": [
    {
     "name": "stdout",
     "output_type": "stream",
     "text": [
      "Model train accuracy score: 0.9691\n",
      "              precision    recall  f1-score   support\n",
      "\n",
      "           0       0.94      0.99      0.97        85\n",
      "           1       0.93      0.72      0.81        18\n",
      "\n",
      "    accuracy                           0.94       103\n",
      "   macro avg       0.94      0.86      0.89       103\n",
      "weighted avg       0.94      0.94      0.94       103\n",
      "\n"
     ]
    }
   ],
   "source": [
    "#knn test\n",
    "\n",
    "model = KNeighborsClassifier(n_neighbors=3)\n",
    "model.fit(x_train, y_train)\n",
    "y_pred_train = model.predict(x_train)\n",
    "y_pred_test = model.predict(x_test)\n",
    "print('Model train accuracy score: {0:0.4f}'. format(accuracy_score(y_train, y_pred_train)))\n",
    "print(classification_report(y_test, y_pred_test))"
   ]
  },
  {
   "cell_type": "code",
   "execution_count": 16,
   "id": "1874faed",
   "metadata": {},
   "outputs": [
    {
     "name": "stdout",
     "output_type": "stream",
     "text": [
      "best params =  {'C': 10, 'kernel': 'poly'}\n",
      "best score = 0.9571011104617183\n"
     ]
    }
   ],
   "source": [
    "#svm\n",
    "\n",
    "from sklearn.svm import SVC\n",
    "\n",
    "model = SVC()\n",
    "params = {\"C\":[0.1,1,10],\n",
    "          \"kernel\":[\"linear\", \"poly\", \"rbf\", \"sigmoid\"]}\n",
    "grid_search(model,params)"
   ]
  },
  {
   "cell_type": "code",
   "execution_count": 17,
   "id": "4e0dbbc0",
   "metadata": {},
   "outputs": [
    {
     "name": "stdout",
     "output_type": "stream",
     "text": [
      "best params =  {'criterion': 'entropy', 'max_depth': 4, 'min_samples_leaf': 1, 'min_samples_split': 2}\n",
      "best score = 0.955376972530684\n"
     ]
    }
   ],
   "source": [
    "#decision tree\n",
    "from sklearn.tree import DecisionTreeClassifier\n",
    "\n",
    "model = DecisionTreeClassifier()\n",
    "params = {\"criterion\":[\"gini\",\"entropy\"],\n",
    "          \"max_depth\":range(1,10),\n",
    "          \"min_samples_split\":range(2,10),\n",
    "          \"min_samples_leaf\":range(1,5)}\n",
    "grid_search(model,params)"
   ]
  },
  {
   "cell_type": "code",
   "execution_count": 18,
   "id": "549ecc4c",
   "metadata": {},
   "outputs": [
    {
     "name": "stdout",
     "output_type": "stream",
     "text": [
      "best params =  {'criterion': 'gini', 'max_depth': 7, 'max_features': 'sqrt', 'n_estimators': 200}\n",
      "best score = 0.9622443015780243\n"
     ]
    }
   ],
   "source": [
    "#random forest\n",
    "from sklearn.ensemble import RandomForestClassifier\n",
    "model = RandomForestClassifier()\n",
    "params = { \n",
    "    'n_estimators': [200, 500],\n",
    "    'max_features': ['auto', 'sqrt', 'log2'],\n",
    "    'max_depth' : [4,5,6,7,8],\n",
    "    'criterion' :['gini', 'entropy']\n",
    "}\n",
    "grid_search(model,params)"
   ]
  },
  {
   "cell_type": "code",
   "execution_count": 19,
   "id": "4cb7ff02",
   "metadata": {},
   "outputs": [
    {
     "name": "stdout",
     "output_type": "stream",
     "text": [
      "Epoch 1/10\n",
      "59/59 [==============================] - 0s 1ms/step - loss: 0.3312 - accuracy: 0.8902\n",
      "Epoch 2/10\n",
      "59/59 [==============================] - 0s 1ms/step - loss: 0.1432 - accuracy: 0.9554\n",
      "Epoch 3/10\n",
      "59/59 [==============================] - 0s 2ms/step - loss: 0.0996 - accuracy: 0.9691\n",
      "Epoch 4/10\n",
      "59/59 [==============================] - 0s 2ms/step - loss: 0.0783 - accuracy: 0.9777\n",
      "Epoch 5/10\n",
      "59/59 [==============================] - 0s 2ms/step - loss: 0.0664 - accuracy: 0.9811\n",
      "Epoch 6/10\n",
      "59/59 [==============================] - 0s 2ms/step - loss: 0.0553 - accuracy: 0.9863\n",
      "Epoch 7/10\n",
      "59/59 [==============================] - 0s 2ms/step - loss: 0.0483 - accuracy: 0.9863\n",
      "Epoch 8/10\n",
      "59/59 [==============================] - 0s 2ms/step - loss: 0.0420 - accuracy: 0.9880\n",
      "Epoch 9/10\n",
      "59/59 [==============================] - 0s 1ms/step - loss: 0.0390 - accuracy: 0.9931\n",
      "Epoch 10/10\n",
      "59/59 [==============================] - 0s 1ms/step - loss: 0.0340 - accuracy: 0.9914\n"
     ]
    },
    {
     "data": {
      "text/plain": [
       "<keras.callbacks.History at 0x25423c6fb50>"
      ]
     },
     "execution_count": 19,
     "metadata": {},
     "output_type": "execute_result"
    }
   ],
   "source": [
    "#MLP\n",
    "from keras.models import Sequential\n",
    "from keras.layers import Dense\n",
    "from keras.wrappers.scikit_learn import KerasClassifier\n",
    "from sklearn.preprocessing import LabelEncoder\n",
    "\n",
    "model = Sequential()\n",
    "model.add(Dense(50, input_dim=124, activation='relu'))\n",
    "model.add(Dense(1, activation='sigmoid'))\n",
    "\n",
    "model.compile(loss='binary_crossentropy', optimizer='adam', metrics=['accuracy'])\n",
    "model.fit(x_train, y_train, epochs=10, batch_size=10)"
   ]
  },
  {
   "cell_type": "code",
   "execution_count": 20,
   "id": "dcec0dbb",
   "metadata": {},
   "outputs": [
    {
     "name": "stdout",
     "output_type": "stream",
     "text": [
      "Epoch 1/10\n",
      "69/69 [==============================] - 0s 1ms/step - loss: 0.6070 - accuracy: 0.7201\n",
      "Epoch 2/10\n",
      "69/69 [==============================] - 0s 2ms/step - loss: 0.1919 - accuracy: 0.9490\n",
      "Epoch 3/10\n",
      "69/69 [==============================] - 0s 2ms/step - loss: 0.1197 - accuracy: 0.9679\n",
      "Epoch 4/10\n",
      "69/69 [==============================] - 0s 2ms/step - loss: 0.0908 - accuracy: 0.9738\n",
      "Epoch 5/10\n",
      "69/69 [==============================] - 0s 1ms/step - loss: 0.0736 - accuracy: 0.9781\n",
      "Epoch 6/10\n",
      "69/69 [==============================] - 0s 2ms/step - loss: 0.0628 - accuracy: 0.9781\n",
      "Epoch 7/10\n",
      "69/69 [==============================] - 0s 2ms/step - loss: 0.0553 - accuracy: 0.9796\n",
      "Epoch 8/10\n",
      "69/69 [==============================] - 0s 2ms/step - loss: 0.0482 - accuracy: 0.9854\n",
      "Epoch 9/10\n",
      "69/69 [==============================] - 0s 2ms/step - loss: 0.0433 - accuracy: 0.9869\n",
      "Epoch 10/10\n",
      "69/69 [==============================] - 0s 2ms/step - loss: 0.0390 - accuracy: 0.9898\n"
     ]
    },
    {
     "data": {
      "text/plain": [
       "<keras.callbacks.History at 0x25424e81ee0>"
      ]
     },
     "execution_count": 20,
     "metadata": {},
     "output_type": "execute_result"
    }
   ],
   "source": [
    "\n",
    "#MLP\n",
    "from keras.models import Sequential\n",
    "from keras.layers import Dense\n",
    "from keras.wrappers.scikit_learn import KerasClassifier\n",
    "from sklearn.preprocessing import LabelEncoder\n",
    "\n",
    "model = Sequential()\n",
    "model.add(Dense(50, input_dim=124, activation='relu'))\n",
    "model.add(Dense(1, activation='sigmoid'))\n",
    "\n",
    "model.compile(loss='binary_crossentropy', optimizer='adam', metrics=['accuracy'])\n",
    "model.fit(x, y, epochs=10, batch_size=10)"
   ]
  },
  {
   "cell_type": "code",
   "execution_count": 21,
   "id": "b91232d1",
   "metadata": {},
   "outputs": [
    {
     "data": {
      "image/png": "[encoded data removed]",
      "text/plain": [
       "<Figure size 432x288 with 1 Axes>"
      ]
     },
     "metadata": {
      "needs_background": "light"
     },
     "output_type": "display_data"
    }
   ],
   "source": [
    "\n",
    "# set width of bar\n",
    "import matplotlib.pyplot as plt\n",
    "barWidth = 0.25\n",
    " \n",
    "\n",
    "\n",
    "# set height of bar\n",
    "bars1 = [0.84,0.89,0.96,0.95,0.96,1.00]\n",
    " \n",
    "# Set position of bar on X axis\n",
    "r1 = np.arange(len(bars1))\n",
    " \n",
    "# Make the plot\n",
    "plt.bar(r1, bars1, width=barWidth, edgecolor='white', label='using all numerical features')\n",
    "\n",
    "# Add xticks on the middle of the group bars\n",
    "plt.ylabel('F1 Scores', fontweight='bold')\n",
    "plt.xticks([r + barWidth for r in range(len(bars1))], ['Naives-Bayes', 'KNN', 'SVM', 'Dec. Tree', 'R. Forest', \"MLP\"])\n",
    " \n",
    "# Create legend & Show graphic\n",
    "plt.legend()\n",
    "plt.savefig(\"f1score\", bbox_inches='tight',dpi = 200)"
   ]
  },
  {
   "cell_type": "code",
   "execution_count": 22,
   "id": "48932c4b",
   "metadata": {},
   "outputs": [
    {
     "name": "stdout",
     "output_type": "stream",
     "text": [
      "[t-SNE] Computing 121 nearest neighbors...\n",
      "[t-SNE] Indexed 686 samples in 0.000s...\n",
      "[t-SNE] Computed neighbors for 686 samples in 0.031s...\n",
      "[t-SNE] Computed conditional probabilities for sample 686 / 686\n",
      "[t-SNE] Mean sigma: 3.280809\n",
      "[t-SNE] KL divergence after 250 iterations with early exaggeration: 70.060364\n",
      "[t-SNE] KL divergence after 300 iterations: 1.017774\n"
     ]
    },
    {
     "data": {
      "text/plain": [
       "<matplotlib.collections.PathCollection at 0x25426ae9ac0>"
      ]
     },
     "execution_count": 22,
     "metadata": {},
     "output_type": "execute_result"
    },
    {
     "data": {
      "image/png": "[encoded data removed]",
      "text/plain": [
       "<Figure size 432x288 with 1 Axes>"
      ]
     },
     "metadata": {
      "needs_background": "light"
     },
     "output_type": "display_data"
    }
   ],
   "source": [
    "from sklearn.manifold import TSNE\n",
    "tsne = TSNE(n_components=2, verbose=1, perplexity=40, n_iter=300)\n",
    "tsne_results = tsne.fit_transform(x)\n",
    "\n",
    "a = tsne_results[:,0]\n",
    "b = tsne_results[:,1]\n",
    "plt.scatter(a,b,c=y,s=10)\n",
    "# print(a)\n",
    "# print(b)\n"
   ]
  },
  {
   "cell_type": "code",
   "execution_count": 23,
   "id": "75a37516",
   "metadata": {},
   "outputs": [
    {
     "data": {
      "image/png": "[encoded data removed]",
      "text/plain": [
       "<Figure size 432x288 with 1 Axes>"
      ]
     },
     "metadata": {
      "needs_background": "light"
     },
     "output_type": "display_data"
    }
   ],
   "source": [
    "df = pd.DataFrame()\n",
    "df[\"a\"] = a\n",
    "df[\"b\"] = b\n",
    "df[\"y\"] = y\n",
    "\n",
    "aa = df[df.y==0]\n",
    "bb = df[df.y==1]\n",
    "\n",
    "plt.scatter(aa.a,aa.b,c=\"green\",s=10,label=\"not-spam\")\n",
    "plt.scatter(bb.a,bb.b,c=\"red\",s=10,label=\"spam\")\n",
    "plt.legend()\n",
    "plt.savefig(\"tsne\", bbox_inches='tight',dpi = 200)"
   ]
  },
  {
   "cell_type": "code",
   "execution_count": null,
   "id": "340d414e",
   "metadata": {},
   "outputs": [],
   "source": []
  }
 ],
 "metadata": {
  "kernelspec": {
   "display_name": "Python 3 (ipykernel)",
   "language": "python",
   "name": "python3"
  },
  "language_info": {
   "codemirror_mode": {
    "name": "ipython",
    "version": 3
   },
   "file_extension": ".py",
   "mimetype": "text/x-python",
   "name": "python",
   "nbconvert_exporter": "python",
   "pygments_lexer": "ipython3",
   "version": "3.9.7"
  }
 },
 "nbformat": 4,
 "nbformat_minor": 5
}
